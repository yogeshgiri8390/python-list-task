{
 "cells": [
  {
   "cell_type": "markdown",
   "id": "174e4226-90f8-4bb9-9a1f-292bee39dcaa",
   "metadata": {},
   "source": [
    "# python list append() method"
   ]
  },
  {
   "cell_type": "code",
   "execution_count": 4,
   "id": "7507ec45-ca31-4d4d-9e67-226a85a5ca1c",
   "metadata": {},
   "outputs": [
    {
     "name": "stdout",
     "output_type": "stream",
     "text": [
      "['apple', 'banana', 'cherry', 'orenge']\n"
     ]
    }
   ],
   "source": [
    "fruits = ['apple','banana','cherry']\n",
    "fruits.append('orenge')\n",
    "print(fruits)"
   ]
  },
  {
   "cell_type": "code",
   "execution_count": 8,
   "id": "032b4ba3-0c03-4a82-90ff-9dfa858b2e0f",
   "metadata": {},
   "outputs": [
    {
     "name": "stdout",
     "output_type": "stream",
     "text": [
      "['apple', 'banana', 'cherry', ['ford', 'bmw', 'volvo']]\n"
     ]
    }
   ],
   "source": [
    "a = ['apple','banana','cherry']\n",
    "b = ['ford','bmw','volvo']\n",
    "a.append(b)\n",
    "print(a)"
   ]
  },
  {
   "cell_type": "markdown",
   "id": "102b1e8b-1f71-4ce1-925f-0ddb55711ba9",
   "metadata": {},
   "source": [
    "# python list clear() method"
   ]
  },
  {
   "cell_type": "code",
   "execution_count": 11,
   "id": "350a8b7f-aa14-471f-a7b6-1ab3c9ebb9c8",
   "metadata": {},
   "outputs": [
    {
     "name": "stdout",
     "output_type": "stream",
     "text": [
      "[]\n"
     ]
    }
   ],
   "source": [
    "fruits = ['apple', 'banana','cherry']\n",
    "fruits.clear()\n",
    "print(fruits)"
   ]
  },
  {
   "cell_type": "markdown",
   "id": "9c7b9c38-c0c7-4b7a-a20f-61983e19c3e4",
   "metadata": {},
   "source": [
    "# python list copy() method"
   ]
  },
  {
   "cell_type": "code",
   "execution_count": 15,
   "id": "d9d61127-9079-4fb9-81de-467bddcbbda5",
   "metadata": {},
   "outputs": [
    {
     "name": "stdout",
     "output_type": "stream",
     "text": [
      "['apple', 'banana', 'cherry']\n"
     ]
    }
   ],
   "source": [
    "fruits = ['apple','banana','cherry']\n",
    "sentence = fruits.copy()\n",
    "print(sentence)"
   ]
  },
  {
   "cell_type": "markdown",
   "id": "9b64ef68-0819-496c-8bcd-63c732441652",
   "metadata": {},
   "source": [
    "# python list count() method"
   ]
  },
  {
   "cell_type": "code",
   "execution_count": 22,
   "id": "d984ad5a-9c23-4c0a-9702-4bf162862252",
   "metadata": {},
   "outputs": [
    {
     "name": "stdout",
     "output_type": "stream",
     "text": [
      "1\n"
     ]
    }
   ],
   "source": [
    "fruits = ['apple','banana','cherry']\n",
    "sentence = fruits.count('cherry')\n",
    "print(sentence)"
   ]
  },
  {
   "cell_type": "code",
   "execution_count": 24,
   "id": "e9c9cb21-b55c-49de-8516-a82202e052de",
   "metadata": {},
   "outputs": [
    {
     "name": "stdout",
     "output_type": "stream",
     "text": [
      "2\n"
     ]
    }
   ],
   "source": [
    "fruits = ['apple','banana','cherry','apple']\n",
    "sentence = fruits.count('apple')\n",
    "print(sentence)"
   ]
  },
  {
   "cell_type": "markdown",
   "id": "f04562a2-787e-4e6c-ba46-94f68003ce58",
   "metadata": {},
   "source": [
    "# python list extend() method"
   ]
  },
  {
   "cell_type": "code",
   "execution_count": 29,
   "id": "262a6cbd-f691-4ced-aa4f-b6e96c4cc0b1",
   "metadata": {},
   "outputs": [
    {
     "name": "stdout",
     "output_type": "stream",
     "text": [
      "['apple', 'banana', 'cherry', 'ford', 'bmw', 'volvo']\n"
     ]
    }
   ],
   "source": [
    "fruits = ['apple','banana','cherry']\n",
    "cars = ['ford','bmw','volvo']\n",
    "fruits.extend(cars)\n",
    "print(fruits)"
   ]
  },
  {
   "cell_type": "markdown",
   "id": "3d865f04-9c1e-4a3a-b485-5a9633d5245e",
   "metadata": {},
   "source": [
    "# python list index() method"
   ]
  },
  {
   "cell_type": "code",
   "execution_count": 32,
   "id": "8fedd15a-89d9-4cf5-bd65-531657fe6a36",
   "metadata": {},
   "outputs": [
    {
     "name": "stdout",
     "output_type": "stream",
     "text": [
      "2\n"
     ]
    }
   ],
   "source": [
    "fruits = ['apple','banana','cherry']\n",
    "sentence = fruits.index('cherry')\n",
    "print(sentence)"
   ]
  },
  {
   "cell_type": "code",
   "execution_count": 44,
   "id": "2879af8a-40e0-45c8-ae9a-0b13979a9f96",
   "metadata": {},
   "outputs": [
    {
     "name": "stdout",
     "output_type": "stream",
     "text": [
      "3\n"
     ]
    }
   ],
   "source": [
    "fruits = [4, 55, 64, 32, 19, 32]\n",
    "sentence = fruits.index(32)\n",
    "print(sentence)"
   ]
  },
  {
   "cell_type": "markdown",
   "id": "af226f27-6697-4e45-85cb-616b2d767a14",
   "metadata": {},
   "source": [
    "# python list insert () method"
   ]
  },
  {
   "cell_type": "code",
   "execution_count": 49,
   "id": "e63ec9d4-839d-4933-a3f4-df44cf7d1703",
   "metadata": {},
   "outputs": [
    {
     "name": "stdout",
     "output_type": "stream",
     "text": [
      "['apple', 'orenge', 'banana', 'cherry']\n"
     ]
    }
   ],
   "source": [
    "fruits = ['apple','banana','cherry']\n",
    "fruits.insert(1,'orenge')\n",
    "print(fruits)"
   ]
  },
  {
   "cell_type": "markdown",
   "id": "a21b54c8-d3ce-4156-955f-aee3117caa62",
   "metadata": {},
   "source": [
    "# python list pop() method"
   ]
  },
  {
   "cell_type": "code",
   "execution_count": 54,
   "id": "8338283f-b85e-49cd-935d-673ff5543b2e",
   "metadata": {},
   "outputs": [
    {
     "name": "stdout",
     "output_type": "stream",
     "text": [
      "['apple', 'cherry']\n"
     ]
    }
   ],
   "source": [
    "fruits = ['apple','banana','cherry']\n",
    "fruits.pop(1)\n",
    "print(fruits)"
   ]
  },
  {
   "cell_type": "markdown",
   "id": "0c41b50e-669e-458d-97d4-da66a5587256",
   "metadata": {},
   "source": [
    "# python list remove () method"
   ]
  },
  {
   "cell_type": "code",
   "execution_count": 57,
   "id": "8e1d6756-bd65-4707-bca7-5d5a960a7d6f",
   "metadata": {},
   "outputs": [
    {
     "name": "stdout",
     "output_type": "stream",
     "text": [
      "['apple', 'cherry']\n"
     ]
    }
   ],
   "source": [
    "fruits = ['apple','banana','cherry']\n",
    "fruits.remove('banana')\n",
    "print(fruits)"
   ]
  },
  {
   "cell_type": "markdown",
   "id": "7fa27bfe-0b85-4e69-b141-394bcf1a0e86",
   "metadata": {},
   "source": [
    "# python list reverse() method"
   ]
  },
  {
   "cell_type": "code",
   "execution_count": 60,
   "id": "b8da5d09-c196-4203-955c-4f55f3e234f5",
   "metadata": {},
   "outputs": [
    {
     "name": "stdout",
     "output_type": "stream",
     "text": [
      "['cherry', 'banana', 'apple']\n"
     ]
    }
   ],
   "source": [
    "fruits = ['apple','banana','cherry']\n",
    "fruits.reverse()\n",
    "print(fruits)"
   ]
  },
  {
   "cell_type": "markdown",
   "id": "65697870-158b-4e8e-aa9c-e2d28eea44f4",
   "metadata": {},
   "source": [
    "# python list sort () mmethod"
   ]
  },
  {
   "cell_type": "code",
   "execution_count": 63,
   "id": "3cb580b1-6019-4178-a25a-604d8e70ae4a",
   "metadata": {},
   "outputs": [
    {
     "name": "stdout",
     "output_type": "stream",
     "text": [
      "['bmw', 'ford', 'volvo']\n"
     ]
    }
   ],
   "source": [
    "cars = ['ford','bmw','volvo']\n",
    "cars.sort()\n",
    "print(cars)"
   ]
  },
  {
   "cell_type": "code",
   "execution_count": 65,
   "id": "ce1a107a-854a-48af-b29a-a744e116399b",
   "metadata": {},
   "outputs": [
    {
     "name": "stdout",
     "output_type": "stream",
     "text": [
      "['volvo', 'ford', 'bmw']\n"
     ]
    }
   ],
   "source": [
    "cars = ['ford','bmw','volvo']\n",
    "cars.sort(reverse=True)\n",
    "print(cars)"
   ]
  },
  {
   "cell_type": "code",
   "execution_count": null,
   "id": "dcbed761-f9ba-48dd-80df-d4c4cfe2e187",
   "metadata": {},
   "outputs": [],
   "source": []
  }
 ],
 "metadata": {
  "kernelspec": {
   "display_name": "Python 3 (ipykernel)",
   "language": "python",
   "name": "python3"
  },
  "language_info": {
   "codemirror_mode": {
    "name": "ipython",
    "version": 3
   },
   "file_extension": ".py",
   "mimetype": "text/x-python",
   "name": "python",
   "nbconvert_exporter": "python",
   "pygments_lexer": "ipython3",
   "version": "3.11.7"
  }
 },
 "nbformat": 4,
 "nbformat_minor": 5
}
